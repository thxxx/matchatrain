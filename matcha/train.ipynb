{
 "cells": [
  {
   "cell_type": "code",
   "execution_count": 2,
   "id": "36646b97-65d0-4023-ad24-4298e18c905e",
   "metadata": {},
   "outputs": [
    {
     "data": {
      "application/vnd.jupyter.widget-view+json": {
       "model_id": "9617f37a54774cab8a020a6a9a24badf",
       "version_major": 2,
       "version_minor": 0
      },
      "text/plain": [
       "README.md:   0%|          | 0.00/456 [00:00<?, ?B/s]"
      ]
     },
     "metadata": {},
     "output_type": "display_data"
    },
    {
     "data": {
      "application/vnd.jupyter.widget-view+json": {
       "model_id": "e95d08e7250c4f989ddfea94a0ba50d1",
       "version_major": 2,
       "version_minor": 0
      },
      "text/plain": [
       "(…)-00000-of-00008-0cc4e31b6b21f574.parquet:   0%|          | 0.00/479M [00:00<?, ?B/s]"
      ]
     },
     "metadata": {},
     "output_type": "display_data"
    },
    {
     "data": {
      "application/vnd.jupyter.widget-view+json": {
       "model_id": "69c8697f11114e1b9fbb84e5324b4e0a",
       "version_major": 2,
       "version_minor": 0
      },
      "text/plain": [
       "(…)-00001-of-00008-3b5b422725ba5106.parquet:   0%|          | 0.00/477M [00:00<?, ?B/s]"
      ]
     },
     "metadata": {},
     "output_type": "display_data"
    },
    {
     "data": {
      "application/vnd.jupyter.widget-view+json": {
       "model_id": "82887e2a3de9469eabbe617745c52c77",
       "version_major": 2,
       "version_minor": 0
      },
      "text/plain": [
       "(…)-00002-of-00008-a5f87edb1313613a.parquet:   0%|          | 0.00/474M [00:00<?, ?B/s]"
      ]
     },
     "metadata": {},
     "output_type": "display_data"
    },
    {
     "data": {
      "application/vnd.jupyter.widget-view+json": {
       "model_id": "08d40a501db745e1b4e921337597ce34",
       "version_major": 2,
       "version_minor": 0
      },
      "text/plain": [
       "(…)-00003-of-00008-f2519bfc406b1727.parquet:   0%|          | 0.00/467M [00:00<?, ?B/s]"
      ]
     },
     "metadata": {},
     "output_type": "display_data"
    },
    {
     "data": {
      "application/vnd.jupyter.widget-view+json": {
       "model_id": "0ec12da1bf834628aee4376d9eb72288",
       "version_major": 2,
       "version_minor": 0
      },
      "text/plain": [
       "(…)-00004-of-00008-40ebdc0ae3e773f7.parquet:   0%|          | 0.00/465M [00:00<?, ?B/s]"
      ]
     },
     "metadata": {},
     "output_type": "display_data"
    },
    {
     "data": {
      "application/vnd.jupyter.widget-view+json": {
       "model_id": "989f5f5b294e499f9eec58199b41ad12",
       "version_major": 2,
       "version_minor": 0
      },
      "text/plain": [
       "(…)-00005-of-00008-8040cd75cc070bf2.parquet:   0%|          | 0.00/458M [00:00<?, ?B/s]"
      ]
     },
     "metadata": {},
     "output_type": "display_data"
    },
    {
     "data": {
      "application/vnd.jupyter.widget-view+json": {
       "model_id": "510936ae0dd54816903ca05ac32dbfe6",
       "version_major": 2,
       "version_minor": 0
      },
      "text/plain": [
       "(…)-00006-of-00008-cd1094b775fb9f17.parquet:   0%|          | 0.00/487M [00:00<?, ?B/s]"
      ]
     },
     "metadata": {},
     "output_type": "display_data"
    },
    {
     "data": {
      "application/vnd.jupyter.widget-view+json": {
       "model_id": "b5763f75399f4b50a4b7ff0c98da5729",
       "version_major": 2,
       "version_minor": 0
      },
      "text/plain": [
       "(…)-00007-of-00008-cdc74d3724524931.parquet:   0%|          | 0.00/478M [00:00<?, ?B/s]"
      ]
     },
     "metadata": {},
     "output_type": "display_data"
    },
    {
     "data": {
      "application/vnd.jupyter.widget-view+json": {
       "model_id": "da8d7b39670444188f09eae5582a16af",
       "version_major": 2,
       "version_minor": 0
      },
      "text/plain": [
       "Generating full split:   0%|          | 0/13100 [00:00<?, ? examples/s]"
      ]
     },
     "metadata": {},
     "output_type": "display_data"
    }
   ],
   "source": [
    "from datasets import load_dataset\n",
    "\n",
    "ds = load_dataset(\"MikhailT/lj-speech\")"
   ]
  },
  {
   "cell_type": "code",
   "execution_count": 1,
   "id": "35ebdeb1-1f05-4986-8a12-4e89c0ff7909",
   "metadata": {},
   "outputs": [],
   "source": [
    "from hydra import initialize, compose\n",
    "from omegaconf import OmegaConf\n",
    "\n",
    "# configs/ 가 있는 디렉토리 기준\n",
    "with initialize(config_path=\"../configs\", version_base=\"1.3\"):\n",
    "    # train.yaml의 defaults를 해석하고, 필요한 오버라이드를 한 번에 적용\n",
    "    cfg = compose(\n",
    "        config_name=\"train.yaml\",\n",
    "        overrides=[\n",
    "            \"data=ljspeech\",\n",
    "            \"model=matcha\",\n",
    "            \"trainer=default\",\n",
    "            # 예: \"trainer.max_epochs=50\" 같은 개별 오버라이드도 가능\n",
    "        ],\n",
    "    )\n",
    "\n",
    "ocfg = OmegaConf.to_yaml(cfg)"
   ]
  },
  {
   "cell_type": "code",
   "execution_count": 2,
   "id": "74d3c579-c129-49f2-86ef-ec10253e9fa6",
   "metadata": {},
   "outputs": [
    {
     "name": "stderr",
     "output_type": "stream",
     "text": [
      "/usr/lib/python3.11/contextlib.py:105: FutureWarning: `torch.backends.cuda.sdp_kernel()` is deprecated. In the future, this context manager will be removed. Please see `torch.nn.attention.sdpa_kernel()` for the new context manager, with updated signature.\n",
      "  self.gen = func(*args, **kwds)\n",
      "/usr/local/lib/python3.11/dist-packages/diffusers/models/lora.py:393: FutureWarning: `LoRACompatibleLinear` is deprecated and will be removed in version 1.0.0. Use of `LoRACompatibleLinear` is deprecated. Please switch to PEFT backend by installing PEFT: `pip install peft`.\n",
      "  deprecate(\"LoRACompatibleLinear\", \"1.0.0\", deprecation_message)\n"
     ]
    }
   ],
   "source": [
    "from omegaconf import OmegaConf\n",
    "import hydra\n",
    "\n",
    "model = hydra.utils.instantiate(cfg.model)"
   ]
  },
  {
   "cell_type": "code",
   "execution_count": 3,
   "id": "f5f016ed-7037-43cc-bfc0-fecfa9320eb3",
   "metadata": {},
   "outputs": [],
   "source": [
    "cfg.data.train_filelist_path = '/workspace/matchatrain/LJSpeech-1.1/train.csv'\n",
    "cfg.data.valid_filelist_path = '/workspace/matchatrain/LJSpeech-1.1/test.csv'\n",
    "\n",
    "datamodule = hydra.utils.instantiate(cfg.data)"
   ]
  },
  {
   "cell_type": "code",
   "execution_count": 4,
   "id": "865b1148-cf92-4c13-a9d7-068a285f42ae",
   "metadata": {},
   "outputs": [
    {
     "data": {
      "text/plain": [
       "{'_target_': 'matcha.data.text_mel_datamodule.TextMelDataModule', 'name': 'ljspeech', 'train_filelist_path': '/workspace/matchatrain/LJSpeech-1.1/train.csv', 'valid_filelist_path': '/workspace/matchatrain/LJSpeech-1.1/test.csv', 'batch_size': 32, 'num_workers': 20, 'pin_memory': True, 'cleaners': ['english_cleaners2'], 'add_blank': True, 'n_spks': 1, 'n_fft': 1024, 'n_feats': 80, 'sample_rate': 22050, 'hop_length': 256, 'win_length': 1024, 'f_min': 0, 'f_max': 8000, 'data_statistics': {'mel_mean': -5.536622, 'mel_std': 2.116101}, 'seed': '${seed}', 'load_durations': False}"
      ]
     },
     "execution_count": 4,
     "metadata": {},
     "output_type": "execute_result"
    }
   ],
   "source": [
    "cfg.data"
   ]
  },
  {
   "cell_type": "code",
   "execution_count": 5,
   "id": "eb253c47-1d3a-427c-98f5-ad03627031f3",
   "metadata": {},
   "outputs": [],
   "source": [
    "datamodule.setup()"
   ]
  },
  {
   "cell_type": "code",
   "execution_count": 10,
   "id": "3556a3ff-c4ca-4e47-b129-d5054cb66c3d",
   "metadata": {},
   "outputs": [],
   "source": [
    "data=next(iter(datamodule.train_dataloader()))"
   ]
  },
  {
   "cell_type": "code",
   "execution_count": 27,
   "id": "56262f33-5ca3-46f8-9aab-c6701d3cd3e0",
   "metadata": {},
   "outputs": [
    {
     "data": {
      "text/plain": [
       "<matcha.data.text_mel_datamodule.TextMelDataModule at 0x763d8043dd10>"
      ]
     },
     "execution_count": 27,
     "metadata": {},
     "output_type": "execute_result"
    }
   ],
   "source": [
    "from matcha.data.text_mel_datamodule import TextMelDataModule, parse_filelist\n",
    "\n",
    "TextMelDataModule(\n",
    "    name='ljspeech',\n",
    "    train_filelist_path=cfg.data.train_filelist_path,\n",
    "    valid_filelist_path=cfg.data.valid_filelist_path,\n",
    "    batch_size=cfg.data.batch_size,\n",
    "    num_workers=cfg.data.num_workers,\n",
    "    pin_memory=cfg.data.pin_memory,\n",
    "    cleaners=cfg.data.cleaners,\n",
    "    add_blank=cfg.data.add_blank,\n",
    "    n_spks=cfg.data.n_spks,\n",
    "    n_fft=cfg.data.n_fft,\n",
    "    n_feats=cfg.data.n_feats,\n",
    "    sample_rate=cfg.data.sample_rate,\n",
    "    hop_length=cfg.data.hop_length,\n",
    "    win_length=cfg.data.win_length,\n",
    "    f_min=cfg.data.f_min,\n",
    "    f_max=cfg.data.f_max,\n",
    "    data_statistics=cfg.data.data_statistics, # mel_mean= -5.536622, mel_std= 2.116101\n",
    "    seed=1234,\n",
    "    load_durations=False\n",
    ")"
   ]
  },
  {
   "cell_type": "code",
   "execution_count": 47,
   "id": "d994012a-639e-4f4d-8bc2-c60c565f7a77",
   "metadata": {},
   "outputs": [],
   "source": [
    "import pandas as pd\n",
    "from sklearn.model_selection import train_test_split\n",
    "\n",
    "df = pd.read_csv(\"/workspace/matchatrain/LJSpeech-1.1/metadata.csv\", sep=\"|\", header=None)\n",
    "# fillist = [[df.iloc[i][0], df.iloc[i][1]] for i in range(len(df))]\n",
    "\n",
    "# train(95%), test(5%) 랜덤 분할\n",
    "train_df, test_df = train_test_split(df, test_size=0.05, random_state=42)\n",
    "\n",
    "# 각각 저장\n",
    "train_df.to_csv(\"train.csv\", sep=\"|\", index=False, header=False)\n",
    "test_df.to_csv(\"test.csv\", sep=\"|\", index=False, header=False)"
   ]
  },
  {
   "cell_type": "code",
   "execution_count": 46,
   "id": "01c01053-6dd0-4361-8b4f-04673232a5f1",
   "metadata": {},
   "outputs": [
    {
     "name": "stderr",
     "output_type": "stream",
     "text": [
      "100%|██████████| 13100/13100 [00:16<00:00, 799.93it/s] \n"
     ]
    }
   ],
   "source": [
    "from tqdm import tqdm\n",
    "\n",
    "for d in tqdm(fillist):\n",
    "    if not os.path.exists('/workspace/matchatrain/LJSpeech-1.1/wavs/' + d[0] + '.wav'):\n",
    "        print(d)"
   ]
  },
  {
   "cell_type": "code",
   "execution_count": 34,
   "id": "f03a549b-939a-4373-ab61-ceedc315ab34",
   "metadata": {},
   "outputs": [
    {
     "name": "stdout",
     "output_type": "stream",
     "text": [
      "Printing, in the only sense with which we are at present concerned, differs from most if not from all the arts and crafts represented in the Exhibition\n",
      "Printing, in the only sense with which we are at present concerned, differs from most if not from all the arts and crafts represented in the Exhibition\n"
     ]
    }
   ],
   "source": [
    "print(df.iloc[0][1])\n",
    "print(df.iloc[0][2])"
   ]
  },
  {
   "cell_type": "code",
   "execution_count": 36,
   "id": "781ab53e-70a7-4354-88fa-0bfabfa806cd",
   "metadata": {},
   "outputs": [
    {
     "name": "stdout",
     "output_type": "stream",
     "text": [
      "LJ001-0001\n"
     ]
    },
    {
     "data": {
      "text/plain": [
       "True"
      ]
     },
     "execution_count": 36,
     "metadata": {},
     "output_type": "execute_result"
    }
   ],
   "source": [
    "import os\n",
    "\n",
    "os.path.exists('/workspace/matchatrain/LJSpeech-1.1/wavs/LJ001-0001.wav')"
   ]
  },
  {
   "cell_type": "code",
   "execution_count": null,
   "id": "03bea9a9-67fe-4e66-8524-e1b529590bb8",
   "metadata": {},
   "outputs": [],
   "source": []
  }
 ],
 "metadata": {
  "kernelspec": {
   "display_name": "Python 3 (ipykernel)",
   "language": "python",
   "name": "python3"
  },
  "language_info": {
   "codemirror_mode": {
    "name": "ipython",
    "version": 3
   },
   "file_extension": ".py",
   "mimetype": "text/x-python",
   "name": "python",
   "nbconvert_exporter": "python",
   "pygments_lexer": "ipython3",
   "version": "3.11.11"
  }
 },
 "nbformat": 4,
 "nbformat_minor": 5
}
