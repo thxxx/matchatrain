{
 "cells": [
  {
   "cell_type": "code",
   "execution_count": 1,
   "id": "aad4c5e0-7b17-4fee-b936-fbfb4c2dcb73",
   "metadata": {},
   "outputs": [
    {
     "name": "stdout",
     "output_type": "stream",
     "text": [
      "True\n"
     ]
    },
    {
     "data": {
      "application/vnd.jupyter.widget-view+json": {
       "model_id": "ec626213c4c04b4e92dc6ffe559107b6",
       "version_major": 2,
       "version_minor": 0
      },
      "text/plain": [
       "Processing Files (0 / 0)                : |          |  0.00B /  0.00B            "
      ]
     },
     "metadata": {},
     "output_type": "display_data"
    },
    {
     "data": {
      "application/vnd.jupyter.widget-view+json": {
       "model_id": "c142f6c833e349c3bd516a46f81e02cd",
       "version_major": 2,
       "version_minor": 0
      },
      "text/plain": [
       "New Data Upload                         : |          |  0.00B /  0.00B            "
      ]
     },
     "metadata": {},
     "output_type": "display_data"
    },
    {
     "data": {
      "application/vnd.jupyter.widget-view+json": {
       "model_id": "4ed9c639a5de460da2f826e7f788f0f6",
       "version_major": 2,
       "version_minor": 0
      },
      "text/plain": [
       "  /workspace/last.ckpt                  :   0%|          |  556kB /  221MB            "
      ]
     },
     "metadata": {},
     "output_type": "display_data"
    },
    {
     "data": {
      "text/plain": [
       "CommitInfo(commit_url='https://huggingface.co/Daniel777/personals/commit/d9174dfad57d7845345997dddd5f9f9f27e3b4d2', commit_message='Upload matchtest1last.ckpt with huggingface_hub', commit_description='', oid='d9174dfad57d7845345997dddd5f9f9f27e3b4d2', pr_url=None, repo_url=RepoUrl('https://huggingface.co/Daniel777/personals', endpoint='https://huggingface.co', repo_type='model', repo_id='Daniel777/personals'), pr_revision=None, pr_num=None)"
      ]
     },
     "execution_count": 1,
     "metadata": {},
     "output_type": "execute_result"
    }
   ],
   "source": [
    "from huggingface_hub import HfApi\n",
    "import os\n",
    "\n",
    "print(os.path.exists(\"/workspace/last.ckpt\"))\n",
    "\n",
    "api = HfApi()\n",
    "\n",
    "api.upload_file(\n",
    "    path_or_fileobj=\"/workspace/last.ckpt\",\n",
    "    path_in_repo=\"matchtest1last.ckpt\",\n",
    "    repo_id=\"Daniel777/personals\",\n",
    "    repo_type=\"model\"\n",
    ")"
   ]
  },
  {
   "cell_type": "code",
   "execution_count": null,
   "id": "db5414fe-b22a-4e7c-916a-400aef17e7a8",
   "metadata": {},
   "outputs": [],
   "source": []
  }
 ],
 "metadata": {
  "kernelspec": {
   "display_name": "Python 3 (ipykernel)",
   "language": "python",
   "name": "python3"
  },
  "language_info": {
   "codemirror_mode": {
    "name": "ipython",
    "version": 3
   },
   "file_extension": ".py",
   "mimetype": "text/x-python",
   "name": "python",
   "nbconvert_exporter": "python",
   "pygments_lexer": "ipython3",
   "version": "3.11.11"
  }
 },
 "nbformat": 4,
 "nbformat_minor": 5
}
